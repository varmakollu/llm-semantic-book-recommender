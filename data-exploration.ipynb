{
 "cells": [
  {
   "cell_type": "code",
   "id": "initial_id",
   "metadata": {
    "collapsed": true
   },
   "source": [
    "from statistics import correlation\n",
    "\n",
    "import kagglehub\n",
    "from seaborn import heatmap\n",
    "\n",
    "# Download latest version\n",
    "path = kagglehub.dataset_download(\"dylanjcastillo/7k-books-with-metadata\")\n",
    "\n",
    "print(\"Path to dataset files:\", path)"
   ],
   "outputs": [],
   "execution_count": null
  },
  {
   "metadata": {},
   "cell_type": "code",
   "source": [
    "import pandas as pd\n",
    "import warnings\n",
    "warnings.filterwarnings(\"ignore\")"
   ],
   "id": "4d4f2d5bb362bd5e",
   "outputs": [],
   "execution_count": null
  },
  {
   "metadata": {},
   "cell_type": "code",
   "source": [
    "books = pd.read_csv(f\"{path}/books.csv\")\n",
    "books"
   ],
   "id": "cf934450d2df623",
   "outputs": [],
   "execution_count": null
  },
  {
   "metadata": {},
   "cell_type": "code",
   "source": [
    "import seaborn as sns\n",
    "import matplotlib.pyplot as plt"
   ],
   "id": "2f02a25af19495d9",
   "outputs": [],
   "execution_count": null
  },
  {
   "metadata": {},
   "cell_type": "code",
   "source": [
    "ax = plt.axes()\n",
    "sns.heatmap(books.isna().transpose(), cbar=False, ax=ax)\n",
    "\n",
    "plt.xlabel(\"Columns\")\n",
    "plt.ylabel(\"Missing values\")\n",
    "\n",
    "plt.show()"
   ],
   "id": "17b372dbaca72c13",
   "outputs": [],
   "execution_count": null
  },
  {
   "metadata": {},
   "cell_type": "code",
   "source": [
    "import numpy as np\n",
    "\n",
    "books[\"missing_description\"] = np.where(books[\"description\"].isna(), 1, 0)\n",
    "books[\"age_of_book\"] = 2024 - books[\"published_year\"]"
   ],
   "id": "4c6e53d70b0f0f51",
   "outputs": [],
   "execution_count": null
  },
  {
   "metadata": {},
   "cell_type": "code",
   "source": [
    "columns_of_interest = [\"num_pages\", \"age_of_book\", \"missing_description\", \"average_rating\"]\n",
    "\n",
    "correlation_matrix = books[columns_of_interest].corr(method = \"spearman\")\n",
    "\n",
    "sns.set_theme(style=\"white\")\n",
    "plt.figure(figsize=(8, 6))\n",
    "heatmap = sns.heatmap(correlation_matrix, annot=True, fmt=\".2f\", cmap=\"coolwarm\",\n",
    "                      cbar_kws={\"label\": \"Spearman correlation\"})\n",
    "heatmap.set_title(\"Correlation heatmap\")\n",
    "plt.show()"
   ],
   "id": "a836204a326ceeba",
   "outputs": [],
   "execution_count": null
  },
  {
   "metadata": {},
   "cell_type": "code",
   "source": [
    "book_missing = books[~(books[\"description\"].isna()) &\n",
    "      ~(books[\"num_pages\"].isna()) &\n",
    "      ~(books[\"average_rating\"].isna()) &\n",
    "      ~(books[\"published_year\"].isna())\n",
    "]\n",
    "books_missing"
   ],
   "id": "95ede37d3be7e5c",
   "outputs": [],
   "execution_count": null
  },
  {
   "metadata": {},
   "cell_type": "code",
   "source": "book_missing[\"categories\"].value_counts().reset_index().sort_values(\"count\", ascending=False)",
   "id": "a9611acff459711a",
   "outputs": [],
   "execution_count": null
  },
  {
   "metadata": {},
   "cell_type": "code",
   "source": "book_missing",
   "id": "63d2612e9de13a36",
   "outputs": [],
   "execution_count": null
  },
  {
   "metadata": {},
   "cell_type": "code",
   "source": [
    "book_missing[\"words_in_description\"] = book_missing[\"description\"].str.split().str.len()\n",
    "book_missing"
   ],
   "id": "a9b05313c4ed28b8",
   "outputs": [],
   "execution_count": null
  },
  {
   "metadata": {},
   "cell_type": "code",
   "source": "book_missing.loc[book_missing[\"words_in_description\"].between(1, 4), \"description\"]",
   "id": "e91ce74bc65cd638",
   "outputs": [],
   "execution_count": null
  },
  {
   "metadata": {},
   "cell_type": "code",
   "source": "book_missing.loc[book_missing[\"words_in_description\"].between(5, 14), \"description\"]\n",
   "id": "5bf03bc435277cf",
   "outputs": [],
   "execution_count": null
  },
  {
   "metadata": {},
   "cell_type": "code",
   "source": "book_missing.loc[book_missing[\"words_in_description\"].between(15, 24), \"description\"]",
   "id": "7cf5622f588c019a",
   "outputs": [],
   "execution_count": null
  },
  {
   "metadata": {},
   "cell_type": "code",
   "source": "book_missing.loc[book_missing[\"words_in_description\"].between(25, 34), \"description\"]",
   "id": "bcba89f8e817361a",
   "outputs": [],
   "execution_count": null
  },
  {
   "metadata": {},
   "cell_type": "code",
   "source": [
    "book_missing_25_words = book_missing[book_missing[\"words_in_description\"] >= 25]\n",
    "book_missing_25_words"
   ],
   "id": "e97b046a98dc1895",
   "outputs": [],
   "execution_count": null
  },
  {
   "metadata": {},
   "cell_type": "code",
   "source": [
    "book_missing_25_words[\"title_and_subtitle\"] = (\n",
    "    np.where(book_missing_25_words[\"subtitle\"].isna(), book_missing_25_words[\"title\"],\n",
    "             book_missing_25_words[[\"title\", \"subtitle\"]].astype(str).agg(\": \".join, axis=1))\n",
    ")\n",
    "book_missing_25_words"
   ],
   "id": "d85de899b9953afc",
   "outputs": [],
   "execution_count": null
  },
  {
   "metadata": {},
   "cell_type": "code",
   "source": [
    "book_missing_25_words[\"tagged_description\"] = book_missing_25_words[[\"isbn13\", \"description\"]].astype(str).agg(\" \".join, axis=1)\n",
    "book_missing_25_words"
   ],
   "id": "f883620fcad93481",
   "outputs": [],
   "execution_count": null
  },
  {
   "metadata": {},
   "cell_type": "code",
   "source": [
    "(\n",
    "    book_missing_25_words\n",
    "    .drop([\"subtitle\", \"missing_description\", \"age_of_book\", \"words_in_description\"], axis=1)\n",
    "    .to_csv(\"books_cleaned.csv\", index = False)\n",
    ")"
   ],
   "id": "81c70ea277e986d6",
   "outputs": [],
   "execution_count": null
  }
 ],
 "metadata": {
  "kernelspec": {
   "display_name": "Python 3",
   "language": "python",
   "name": "python3"
  },
  "language_info": {
   "codemirror_mode": {
    "name": "ipython",
    "version": 2
   },
   "file_extension": ".py",
   "mimetype": "text/x-python",
   "name": "python",
   "nbconvert_exporter": "python",
   "pygments_lexer": "ipython2",
   "version": "2.7.6"
  }
 },
 "nbformat": 4,
 "nbformat_minor": 5
}
