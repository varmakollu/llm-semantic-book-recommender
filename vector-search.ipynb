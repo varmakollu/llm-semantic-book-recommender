{
 "cells": [
  {
   "metadata": {},
   "cell_type": "code",
   "source": [
    "from langchain_community.document_loaders import TextLoader\n",
    "from langchain_text_splitters import CharacterTextSplitter\n",
    "from langchain_huggingface import HuggingFaceEmbeddings\n",
    "from langchain_chroma import Chroma"
   ],
   "id": "e1702a938a44dffa",
   "outputs": [],
   "execution_count": null
  },
  {
   "metadata": {},
   "cell_type": "code",
   "source": [
    "from dotenv import load_dotenv\n",
    "\n",
    "load_dotenv()"
   ],
   "id": "b0b08bd9b2d59090",
   "outputs": [],
   "execution_count": null
  },
  {
   "metadata": {},
   "cell_type": "code",
   "source": [
    "import pandas as pd\n",
    "\n",
    "books = pd.read_csv(\"books_cleaned.csv\")\n",
    "books"
   ],
   "id": "ff126d3ff976285f",
   "outputs": [],
   "execution_count": null
  },
  {
   "metadata": {},
   "cell_type": "code",
   "source": "books[\"tagged_description\"]",
   "id": "bf1463278d10d406",
   "outputs": [],
   "execution_count": null
  },
  {
   "metadata": {},
   "cell_type": "code",
   "source": "books[\"tagged_description\"].to_csv(\"tagged_description.txt\", sep=\"|\", index=False, header=False)\n",
   "id": "1df1265b5840444",
   "outputs": [],
   "execution_count": null
  },
  {
   "metadata": {},
   "cell_type": "code",
   "source": [
    "raw_documents = TextLoader(\"tagged_description.txt\").load()\n",
    "text_splitter = CharacterTextSplitter(chunk_size=1, chunk_overlap=0, separator=\"\\n\")\n",
    "documents = text_splitter.split_documents(raw_documents)"
   ],
   "id": "10d947cd62076850",
   "outputs": [],
   "execution_count": null
  },
  {
   "metadata": {},
   "cell_type": "code",
   "source": "documents[1]",
   "id": "e2167bf4c30f7629",
   "outputs": [],
   "execution_count": null
  },
  {
   "metadata": {},
   "cell_type": "code",
   "source": [
    "embedding = HuggingFaceEmbeddings(model_name=\"sentence-transformers/all-MiniLM-L6-v2\")\n",
    "\n",
    "db_books = Chroma.from_documents(\n",
    "    documents,\n",
    "    embedding=embedding\n",
    ")"
   ],
   "id": "acc3015733914706",
   "outputs": [],
   "execution_count": null
  },
  {
   "metadata": {},
   "cell_type": "code",
   "source": [
    "query = \"A book to teach children about nature\"\n",
    "docs = db_books.similarity_search(query, k = 10)\n",
    "docs"
   ],
   "id": "778a39ae44738ef5",
   "outputs": [],
   "execution_count": null
  },
  {
   "metadata": {},
   "cell_type": "code",
   "source": "books[books[\"isbn13\"] == int(docs[0].page_content.split()[0].strip())]\n",
   "id": "40b269b91fdbbc2f",
   "outputs": [],
   "execution_count": null
  },
  {
   "metadata": {},
   "cell_type": "code",
   "source": [
    "def retrieve_semantic_recommendations(\n",
    "        query: str,\n",
    "        top_k: int = 10,\n",
    ") -> pd.DataFrame:\n",
    "    recs = db_books.similarity_search(query, k = 50)\n",
    "\n",
    "    books_list = []\n",
    "\n",
    "    for i in range(0, len(recs)):\n",
    "        books_list += [int(recs[i].page_content.strip('\"').split()[0])]\n",
    "\n",
    "    return books[books[\"isbn13\"].isin(books_list)]"
   ],
   "id": "438812c3c87e4f",
   "outputs": [],
   "execution_count": null
  },
  {
   "metadata": {},
   "cell_type": "code",
   "source": "retrieve_semantic_recommendations(\"A book to teach children about nature\")\n",
   "id": "3626ea8204546362",
   "outputs": [],
   "execution_count": null
  }
 ],
 "metadata": {
  "kernelspec": {
   "display_name": "Python 3",
   "language": "python",
   "name": "python3"
  },
  "language_info": {
   "codemirror_mode": {
    "name": "ipython",
    "version": 2
   },
   "file_extension": ".py",
   "mimetype": "text/x-python",
   "name": "python",
   "nbconvert_exporter": "python",
   "pygments_lexer": "ipython2",
   "version": "2.7.6"
  }
 },
 "nbformat": 4,
 "nbformat_minor": 5
}
